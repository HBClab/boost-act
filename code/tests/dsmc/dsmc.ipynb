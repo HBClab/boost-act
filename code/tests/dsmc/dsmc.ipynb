{
 "cells": [
  {
   "cell_type": "markdown",
   "id": "41516cc1-a9ea-483c-afa3-4ac009fcf7dd",
   "metadata": {},
   "source": [
    "# dsmc report for tuesday 07-something\n",
    "\n",
    "## requirements \n",
    "- each subject and session\n",
    "- calibration error\n",
    "- total number of days\n",
    "- total numbers of days and weekdays"
   ]
  },
  {
   "cell_type": "code",
   "execution_count": 1,
   "id": "d85fbf45-b14c-4b64-af55-baade17fb421",
   "metadata": {},
   "outputs": [],
   "source": [
    "import pandas as pd \n",
    "import numpy as np\n",
    "import os "
   ]
  },
  {
   "cell_type": "code",
   "execution_count": 2,
   "id": "587c5a88-c78a-4d55-8236-449f44b15cfc",
   "metadata": {},
   "outputs": [],
   "source": [
    "def extract_all_subjects(project):\n",
    "    file_appendage = 'accel/output_accel/results/part5_personsummary_MM_L44.8M100.6V428.8_T5A5.csv'\n",
    "    \n",
    "    if project == 'int':\n",
    "        base_path = '/mnt/lss/Projects/BOOST/InterventionStudy/3-experiment/data/act-int-test/derivatives/GGIR-3.2.6'\n",
    "    elif project == 'obs':\n",
    "        base_path = '/mnt/lss/Projects/BOOST/ObservationalStudy/3-experiment/data/act-obs-test/derivatives/GGIR-3.2.6'\n",
    "    else:\n",
    "        raise ValueError(\"Invalid project; use 'int' or 'obs'.\")\n",
    "\n",
    "    subject_data = {}\n",
    "\n",
    "    for subject in os.listdir(base_path):\n",
    "        subject_path = os.path.join(base_path, subject, file_appendage)\n",
    "        if not os.path.isfile(subject_path):\n",
    "            continue\n",
    "\n",
    "        try:\n",
    "            df = pd.read_csv(subject_path)\n",
    "            subject_data[subject] = {\n",
    "                'sessions': len(df),\n",
    "                'total_days': int(df['Nvaliddays'].sum()),\n",
    "                'weekdays': int(df['Nvaliddays_WD'].sum()),\n",
    "                'weekends': int(df['Nvaliddays_WE'].sum())\n",
    "            }\n",
    "        except Exception as e:\n",
    "            print(f\"Skipping {subject} due to error: {e}\")\n",
    "            continue\n",
    "\n",
    "    return subject_data"
   ]
  },
  {
   "cell_type": "code",
   "execution_count": 3,
   "id": "02378f88-2eea-4019-bc4b-de46255b922f",
   "metadata": {},
   "outputs": [
    {
     "data": {
      "text/plain": [
       "{'sub-8024': {'sessions': 1, 'total_days': 9, 'weekdays': 5, 'weekends': 4},\n",
       " 'sub-8016': {'sessions': 2, 'total_days': 18, 'weekdays': 14, 'weekends': 4},\n",
       " 'sub-8037': {'sessions': 1, 'total_days': 9, 'weekdays': 6, 'weekends': 3},\n",
       " 'sub-8005': {'sessions': 2, 'total_days': 18, 'weekdays': 14, 'weekends': 4},\n",
       " 'sub-8008': {'sessions': 2, 'total_days': 16, 'weekdays': 13, 'weekends': 3},\n",
       " 'sub-8011': {'sessions': 2, 'total_days': 18, 'weekdays': 12, 'weekends': 6},\n",
       " 'sub-8023': {'sessions': 1, 'total_days': 9, 'weekdays': 7, 'weekends': 2},\n",
       " 'sub-8015': {'sessions': 1, 'total_days': 9, 'weekdays': 7, 'weekends': 2},\n",
       " 'sub-8006': {'sessions': 2, 'total_days': 18, 'weekdays': 11, 'weekends': 7},\n",
       " 'sub-8018': {'sessions': 2, 'total_days': 18, 'weekdays': 14, 'weekends': 4},\n",
       " 'sub-8003': {'sessions': 2, 'total_days': 15, 'weekdays': 9, 'weekends': 6},\n",
       " 'sub-8036': {'sessions': 1, 'total_days': 9, 'weekdays': 7, 'weekends': 2},\n",
       " 'sub-8004': {'sessions': 2, 'total_days': 12, 'weekdays': 6, 'weekends': 6},\n",
       " 'sub-8019': {'sessions': 2, 'total_days': 18, 'weekdays': 14, 'weekends': 4},\n",
       " 'sub-8021': {'sessions': 1, 'total_days': 8, 'weekdays': 7, 'weekends': 1},\n",
       " 'sub-8035': {'sessions': 1, 'total_days': 9, 'weekdays': 7, 'weekends': 2},\n",
       " 'sub-8026': {'sessions': 2, 'total_days': 18, 'weekdays': 13, 'weekends': 5},\n",
       " 'sub-8014': {'sessions': 1, 'total_days': 9, 'weekdays': 7, 'weekends': 2}}"
      ]
     },
     "execution_count": 3,
     "metadata": {},
     "output_type": "execute_result"
    }
   ],
   "source": [
    "int_result = extract_all_subjects('int')\n",
    "int_result"
   ]
  },
  {
   "cell_type": "code",
   "execution_count": null,
   "id": "9dbde937-9872-4d32-b218-2bc65ae9d6c3",
   "metadata": {},
   "outputs": [],
   "source": [
    "obs_result = extract_all_subjects('obs')\n",
    "obs_result"
   ]
  },
  {
   "cell_type": "code",
   "execution_count": null,
   "id": "67e66df2-5678-4e8a-be23-846d903bea05",
   "metadata": {},
   "outputs": [],
   "source": [
    "int_result_df = pd.DataFrame(int_result)\n",
    "obs_result_df = pd.DataFrame(obs_result)"
   ]
  },
  {
   "cell_type": "code",
   "execution_count": null,
   "id": "a1ce77a7-1019-4e03-aa95-76712cb77c6a",
   "metadata": {},
   "outputs": [],
   "source": [
    "int_result_df.to_csv('./int.csv')\n",
    "obs_result_df.to_csv('./obs.csv')"
   ]
  },
  {
   "cell_type": "code",
   "execution_count": null,
   "id": "c0aad536-c681-4b6a-a4d5-456e96a25874",
   "metadata": {},
   "outputs": [],
   "source": [
    "\n",
    "def extract_all_subjects(project):\n",
    "    file_appendage = 'accel/output_accel/results/part5_personsummary_MM_L44.8M100.6V428.8_T5A5.csv'\n",
    "    \n",
    "    if project == 'int':\n",
    "        base_path = '/mnt/lss/Projects/BOOST/InterventionStudy/3-experiment/data/act-int-test/derivatives/GGIR-3.2.6'\n",
    "    elif project == 'obs':\n",
    "        base_path = '/mnt/lss/Projects/BOOST/ObservationalStudy/3-experiment/data/act-obs-test/derivatives/GGIR-3.2.6'\n",
    "    else:\n",
    "        raise ValueError(\"Invalid project; use 'int' or 'obs'.\")\n",
    "\n",
    "    subject_data = {}\n",
    "\n",
    "    for subject in os.listdir(base_path):\n",
    "        subject_path = os.path.join(base_path, subject, file_appendage)\n",
    "        if not os.path.isfile(subject_path):\n",
    "            continue\n",
    "\n",
    "        try:\n",
    "            df = pd.read_csv(subject_path)\n",
    "            sessions = []\n",
    "            for _, row in df.iterrows():\n",
    "                sessions.append({\n",
    "                    'session_id': row['ID'].split('_')[1],\n",
    "                    'calendar_date': row['calendar_date'],\n",
    "                    'total_days': int(row['Nvaliddays']),\n",
    "                    'weekdays': int(row['Nvaliddays_WD']),\n",
    "                    'weekends': int(row['Nvaliddays_WE'])\n",
    "                })\n",
    "            subject_data[subject] = sessions\n",
    "        except Exception as e:\n",
    "            print(f\"Skipping {subject} due to error: {e}\")\n",
    "            continue\n",
    "\n",
    "    return subject_data"
   ]
  },
  {
   "cell_type": "code",
   "execution_count": null,
   "id": "66f16dbe-d934-40ca-869b-319d5c024459",
   "metadata": {},
   "outputs": [],
   "source": [
    "int_result = extract_all_subjects('int')\n"
   ]
  },
  {
   "cell_type": "code",
   "execution_count": null,
   "id": "5c7c77e4-21ca-47e0-8e2f-653d2098b097",
   "metadata": {},
   "outputs": [],
   "source": [
    "def sessions_to_dataframe(subject_data):\n",
    "    rows = []\n",
    "    for subject, sessions in subject_data.items():\n",
    "        for session in sessions:\n",
    "            row = {\n",
    "                'subject': subject,\n",
    "                **session  # unpack session fields into row\n",
    "            }\n",
    "            rows.append(row)\n",
    "    return pd.DataFrame(rows)\n"
   ]
  },
  {
   "cell_type": "code",
   "execution_count": null,
   "id": "4f7627dd-80aa-4c2d-a1b0-2d594e7e9028",
   "metadata": {},
   "outputs": [],
   "source": [
    "data = extract_all_subjects('int')\n",
    "df = sessions_to_dataframe(data)\n",
    "print(df.head())"
   ]
  },
  {
   "cell_type": "code",
   "execution_count": null,
   "id": "9ba2814a-c836-4095-9786-b19c5ef45a9b",
   "metadata": {},
   "outputs": [],
   "source": [
    "df.\n",
    "df"
   ]
  },
  {
   "cell_type": "code",
   "execution_count": null,
   "id": "34b16c98-c8db-428f-a835-ad6a1d7ca68e",
   "metadata": {},
   "outputs": [],
   "source": [
    "df.to_csv('./int.csv')"
   ]
  },
  {
   "cell_type": "code",
   "execution_count": null,
   "id": "e2bda535-0ce0-4cf7-8b4f-cd37fe33e2f4",
   "metadata": {},
   "outputs": [],
   "source": []
  },
  {
   "cell_type": "code",
   "execution_count": null,
   "id": "18eeefd4-6e75-4ed8-836b-d28f213fc3bc",
   "metadata": {},
   "outputs": [],
   "source": []
  },
  {
   "cell_type": "code",
   "execution_count": null,
   "id": "2e6d6c1d-0e49-466c-9ad4-f7172ea30391",
   "metadata": {},
   "outputs": [],
   "source": []
  }
 ],
 "metadata": {
  "kernelspec": {
   "display_name": "Python 3 (ipykernel)",
   "language": "python",
   "name": "python3"
  },
  "language_info": {
   "codemirror_mode": {
    "name": "ipython",
    "version": 3
   },
   "file_extension": ".py",
   "mimetype": "text/x-python",
   "name": "python",
   "nbconvert_exporter": "python",
   "pygments_lexer": "ipython3",
   "version": "3.13.4"
  }
 },
 "nbformat": 4,
 "nbformat_minor": 5
}