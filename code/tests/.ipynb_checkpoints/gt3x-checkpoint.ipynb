{
 "cells": [
  {
   "cell_type": "markdown",
   "id": "b0951ddb-0d6b-4ac5-a801-821b030f9fd5",
   "metadata": {},
   "source": [
    "# gt3x implementation of ggir\n",
    "\n",
    "## Goals \n",
    "- provide a rough implementation of using gt3x in ggir\n",
    "- allow for this to be run on argon"
   ]
  },
  {
   "cell_type": "code",
   "execution_count": 4,
   "id": "431867ff-c214-4b11-930b-77a045648ffd",
   "metadata": {},
   "outputs": [],
   "source": [
    "# imports\n",
    "import os\n",
    "import shutil"
   ]
  },
  {
   "cell_type": "code",
   "execution_count": 10,
   "id": "bd833fd5-7c65-4194-86ff-b0d0e4e43923",
   "metadata": {},
   "outputs": [],
   "source": [
    "# create a test environment on lss to add gt3x files\n",
    "# initial variables\n",
    "test_dir = \"/mnt/lss/Users/zak/ggir\"\n",
    "example_files = [\"/mnt/rdss/VossLab/Repositories/Accelerometer_Data/RawFiles/RawGT3X_Files/hinklin (2025-08-18).gt3x\", \"/mnt/rdss/VossLab/Repositories/Accelerometer_Data/RawFiles/RawGT3X_Files/Andersen (2025-08-18).gt3x\", \"/mnt/rdss/VossLab/Repositories/Accelerometer_Data/RawFiles/RawGT3X_Files/Voss (2025-08-18).gt3x\"]\n",
    "subjects = [\"1\", \"2\", \"3\"]"
   ]
  },
  {
   "cell_type": "code",
   "execution_count": 11,
   "id": "4ef5da28-42a3-43d8-8b1e-b3ecb148cb55",
   "metadata": {},
   "outputs": [
    {
     "name": "stdout",
     "output_type": "stream",
     "text": [
      "copying /mnt/rdss/VossLab/Repositories/Accelerometer_Data/RawFiles/RawGT3X_Files/hinklin (2025-08-18).gt3x to /mnt/lss/Users/zak/ggir/sub-1_ses-#_accel.gt3x\n",
      "copying /mnt/rdss/VossLab/Repositories/Accelerometer_Data/RawFiles/RawGT3X_Files/Andersen (2025-08-18).gt3x to /mnt/lss/Users/zak/ggir/sub-2_ses-#_accel.gt3x\n",
      "copying /mnt/rdss/VossLab/Repositories/Accelerometer_Data/RawFiles/RawGT3X_Files/Voss (2025-08-18).gt3x to /mnt/lss/Users/zak/ggir/sub-3_ses-#_accel.gt3x\n"
     ]
    }
   ],
   "source": [
    "# copy the gt3x files from rdss to lss while renaming\n",
    "new_files = []\n",
    "counter = 0\n",
    "while counter < 3:\n",
    "    for file in example_files:\n",
    "        new_files.append([file, f\"sub-{subjects[counter]}_ses-#_accel.gt3x\"])\n",
    "        counter += 1\n",
    "for pair in new_files:\n",
    "    shutil.copy(pair[0], os.path.join(test_dir, pair[1]))\n",
    "    print(f\"copying {pair[0]} to {os.path.join(test_dir, pair[1])}\")   "
   ]
  },
  {
   "cell_type": "code",
   "execution_count": null,
   "id": "2d17d6e9-8236-4145-ae31-75706b4874fa",
   "metadata": {},
   "outputs": [],
   "source": []
  }
 ],
 "metadata": {
  "kernelspec": {
   "display_name": "Python 3 (ipykernel)",
   "language": "python",
   "name": "python3"
  },
  "language_info": {
   "codemirror_mode": {
    "name": "ipython",
    "version": 3
   },
   "file_extension": ".py",
   "mimetype": "text/x-python",
   "name": "python",
   "nbconvert_exporter": "python",
   "pygments_lexer": "ipython3",
   "version": "3.13.4"
  }
 },
 "nbformat": 4,
 "nbformat_minor": 5
}
