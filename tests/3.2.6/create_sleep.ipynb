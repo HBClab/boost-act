{
 "cells": [
  {
   "cell_type": "code",
   "execution_count": 63,
   "id": "a30e278f",
   "metadata": {},
   "outputs": [],
   "source": [
    "import os \n",
    "import sys\n",
    "import pandas as pd\n",
    "import numpy as np\n",
    "import requests\n",
    "from io import StringIO as stringio\n",
    "import json\n",
    "from pathlib import Path\n",
    "from datetime import datetime"
   ]
  },
  {
   "cell_type": "markdown",
   "id": "d9d87c4e",
   "metadata": {},
   "source": [
    "# this file is algo testing to create the sleep logs required to implement into GGIR-3.2.6\n",
    "\n",
    "## required format:\n",
    "Example of a basic sleeplog:\n",
    "\n",
    "| ID  | onset_N1  | wakeup_N1 | onset_N2  | wakeup_N2 | onset_N3  | wakeup_N3 | onset_N4  |\n",
    "|-----|-----------|-----------|-----------|-----------|-----------|-----------|-----------|\n",
    "| 345 | 21:55:00  | 08:47:00  |           |           | 23:45:00  | 06:30:00  | 00:00:00  |\n",
    "One column for participant id, this does not have to be the first column. Specify which column it is with argument `colid`.\n",
    "\n",
    "Alternatingly one column for onset time and one column for waking time. Specify which column is the column for the first night by argument `coln1`, in the above example coln1=2.\n",
    "\n",
    "Timestamps are to be stored without date as in hh:mm:ss with hour values ranging between 0 and 23 (not 24). If onset corresponds to lights out or intention to fall asleep, then specify sleepwindowType = \"TimeInBed\".\n"
   ]
  },
  {
   "cell_type": "code",
   "execution_count": 64,
   "id": "24a35e30",
   "metadata": {},
   "outputs": [],
   "source": [
    "# sleep directory\n",
    "SLEEP_DIR = \"/Volumes/VossLab/Repositories/Accelerometer_Data/Sleep\"\n",
    "# date to start from\n",
    "FROM_DATE = \"08-05-2024\"\n",
    "\n",
    "# set up logging\n",
    "logging.basicConfig(\n",
    "    level=logging.INFO,\n",
    "    format='%(asctime)s - %(levelname)s - %(message)s',\n",
    "    handlers=[\n",
    "        logging.FileHandler(\"sleep_data_processing.log\"),\n",
    "        logging.StreamHandler(sys.stdout)\n",
    "    ]\n",
    ")\n",
    "logger = logging.getLogger(__name__)"
   ]
  },
  {
   "cell_type": "code",
   "execution_count": 65,
   "id": "605abc71",
   "metadata": {},
   "outputs": [],
   "source": [
    "# function to return list of lab-subject ID pairs\n",
    "def _return_report(token):\n",
    "    \"\"\"\n",
    "    pulls the id report from the rdss via redcap api.\n",
    "    reads the report as a dataframe.\n",
    "    checks for boost_ids that are associated with multiple lab_ids, logs a critical error,\n",
    "    and removes these rows from the dataframe.\n",
    "    separates duplicate rows (based on any column) from the cleaned data.\n",
    "    \n",
    "    returns:\n",
    "        df_cleaned: dataframe with duplicates removed and problematic boost_ids excluded\n",
    "        duplicate_rows: dataframe of duplicate rows\n",
    "    \"\"\"\n",
    "    url = 'https://redcap.icts.uiowa.edu/redcap/api/'\n",
    "    data = {\n",
    "        'token': token,\n",
    "        'content': 'report',\n",
    "        'report_id': 43327,\n",
    "        'format': 'csv'\n",
    "    }\n",
    "    r = requests.post(url, data=data)\n",
    "    if r.status_code != 200:\n",
    "        print(f\"error! status code is {r.status_code}\")\n",
    "        sys.exit(1)\n",
    "    \n",
    "    df = pd.read_csv(stringio(r.text))\n",
    "    \n",
    "    # identify boost_ids associated with multiple lab_ids.\n",
    "    boost_id_counts = df.groupby('boost_id')['lab_id'].nunique()\n",
    "    problematic_boost_ids = boost_id_counts[boost_id_counts > 1].index.tolist()\n",
    "    \n",
    "    if problematic_boost_ids:\n",
    "        logging.critical(f\"found boost_id(s) with multiple lab_ids: {', '.join(map(str, problematic_boost_ids))}. \"\n",
    "                        \"these entries will be removed from processing.\")\n",
    "        df = df[~df['boost_id'].isin(problematic_boost_ids)]\n",
    "    \n",
    "    # identify and separate duplicate rows based on any column.\n",
    "    duplicate_rows = df[df.duplicated(keep=False)]\n",
    "    df_cleaned = df.drop_duplicates(keep=False)\n",
    "    \n",
    "    if not duplicate_rows.empty:\n",
    "        logging.info(f\"duplicate rows found:\\n{duplicate_rows}\")\n",
    "    \n",
    "    return df_cleaned, duplicate_rows\n"
   ]
  },
  {
   "cell_type": "code",
   "execution_count": 66,
   "id": "e7396d6c",
   "metadata": {},
   "outputs": [
    {
     "name": "stdout",
     "output_type": "stream",
     "text": [
      "2025-05-22 08:16:40,438 - CRITICAL - found boost_id(s) with multiple lab_ids: 7023. these entries will be removed from processing.\n"
     ]
    },
    {
     "data": {
      "application/vnd.microsoft.datawrangler.viewer.v0+json": {
       "columns": [
        {
         "name": "index",
         "rawType": "int64",
         "type": "integer"
        },
        {
         "name": "lab_id",
         "rawType": "int64",
         "type": "integer"
        },
        {
         "name": "boost_id",
         "rawType": "object",
         "type": "string"
        }
       ],
       "ref": "d3bb02a3-a26c-4287-810d-b42bc30bd5bb",
       "rows": [
        [
         "0",
         "1023",
         "8022"
        ],
        [
         "1",
         "1043",
         "7062"
        ],
        [
         "2",
         "1051",
         "7146"
        ],
        [
         "3",
         "1093",
         "6011"
        ],
        [
         "4",
         "1097",
         "6012"
        ],
        [
         "5",
         "1098",
         "6013"
        ],
        [
         "6",
         "1099",
         "6010"
        ],
        [
         "7",
         "1100",
         "6014"
        ],
        [
         "8",
         "1101",
         "6015"
        ],
        [
         "9",
         "1102",
         "6016"
        ],
        [
         "10",
         "1103",
         "6018"
        ],
        [
         "11",
         "1105",
         "6020"
        ],
        [
         "12",
         "1106",
         "6017"
        ],
        [
         "13",
         "1107",
         "6021"
        ],
        [
         "14",
         "1108",
         "6022, 7143"
        ],
        [
         "15",
         "1110",
         "7000"
        ],
        [
         "16",
         "1111",
         "7001"
        ],
        [
         "17",
         "1112",
         "7002"
        ],
        [
         "18",
         "1113",
         "7003"
        ],
        [
         "19",
         "1114",
         "7004"
        ],
        [
         "20",
         "1115",
         "7006"
        ],
        [
         "21",
         "1116",
         "7012"
        ],
        [
         "22",
         "1117",
         "7009"
        ],
        [
         "23",
         "1118",
         "7010"
        ],
        [
         "24",
         "1119",
         "7011"
        ],
        [
         "25",
         "1120",
         "7015"
        ],
        [
         "26",
         "1121",
         "7016"
        ],
        [
         "27",
         "1122",
         "7017"
        ],
        [
         "28",
         "1123",
         "8001"
        ],
        [
         "29",
         "1124",
         "8002"
        ],
        [
         "30",
         "1125",
         "8003"
        ],
        [
         "31",
         "1126",
         "8004"
        ],
        [
         "32",
         "1127",
         "8007"
        ],
        [
         "33",
         "1129",
         "8006"
        ],
        [
         "34",
         "1130",
         "7019"
        ],
        [
         "35",
         "1131",
         "7020"
        ],
        [
         "36",
         "1132",
         "7021"
        ],
        [
         "37",
         "1133",
         "7022"
        ],
        [
         "38",
         "1134",
         "8005"
        ],
        [
         "40",
         "1136",
         "7024"
        ],
        [
         "41",
         "1137",
         "7025"
        ],
        [
         "42",
         "1138",
         "7026"
        ],
        [
         "43",
         "1139",
         "7027"
        ],
        [
         "44",
         "1140",
         "7028"
        ],
        [
         "45",
         "1141",
         "7029"
        ],
        [
         "46",
         "1142",
         "7030"
        ],
        [
         "47",
         "1144",
         "7032"
        ],
        [
         "48",
         "1145",
         "7033"
        ],
        [
         "49",
         "1146",
         "8008"
        ],
        [
         "50",
         "1147",
         "7034"
        ]
       ],
       "shape": {
        "columns": 2,
        "rows": 211
       }
      },
      "text/html": [
       "<div>\n",
       "<style scoped>\n",
       "    .dataframe tbody tr th:only-of-type {\n",
       "        vertical-align: middle;\n",
       "    }\n",
       "\n",
       "    .dataframe tbody tr th {\n",
       "        vertical-align: top;\n",
       "    }\n",
       "\n",
       "    .dataframe thead th {\n",
       "        text-align: right;\n",
       "    }\n",
       "</style>\n",
       "<table border=\"1\" class=\"dataframe\">\n",
       "  <thead>\n",
       "    <tr style=\"text-align: right;\">\n",
       "      <th></th>\n",
       "      <th>lab_id</th>\n",
       "      <th>boost_id</th>\n",
       "    </tr>\n",
       "  </thead>\n",
       "  <tbody>\n",
       "    <tr>\n",
       "      <th>0</th>\n",
       "      <td>1023</td>\n",
       "      <td>8022</td>\n",
       "    </tr>\n",
       "    <tr>\n",
       "      <th>1</th>\n",
       "      <td>1043</td>\n",
       "      <td>7062</td>\n",
       "    </tr>\n",
       "    <tr>\n",
       "      <th>2</th>\n",
       "      <td>1051</td>\n",
       "      <td>7146</td>\n",
       "    </tr>\n",
       "    <tr>\n",
       "      <th>3</th>\n",
       "      <td>1093</td>\n",
       "      <td>6011</td>\n",
       "    </tr>\n",
       "    <tr>\n",
       "      <th>4</th>\n",
       "      <td>1097</td>\n",
       "      <td>6012</td>\n",
       "    </tr>\n",
       "    <tr>\n",
       "      <th>...</th>\n",
       "      <td>...</td>\n",
       "      <td>...</td>\n",
       "    </tr>\n",
       "    <tr>\n",
       "      <th>208</th>\n",
       "      <td>1343</td>\n",
       "      <td>8051</td>\n",
       "    </tr>\n",
       "    <tr>\n",
       "      <th>209</th>\n",
       "      <td>1344</td>\n",
       "      <td>7157</td>\n",
       "    </tr>\n",
       "    <tr>\n",
       "      <th>210</th>\n",
       "      <td>1345</td>\n",
       "      <td>8052</td>\n",
       "    </tr>\n",
       "    <tr>\n",
       "      <th>211</th>\n",
       "      <td>1346</td>\n",
       "      <td>8053</td>\n",
       "    </tr>\n",
       "    <tr>\n",
       "      <th>212</th>\n",
       "      <td>1347</td>\n",
       "      <td>8054</td>\n",
       "    </tr>\n",
       "  </tbody>\n",
       "</table>\n",
       "<p>211 rows × 2 columns</p>\n",
       "</div>"
      ],
      "text/plain": [
       "     lab_id boost_id\n",
       "0      1023     8022\n",
       "1      1043     7062\n",
       "2      1051     7146\n",
       "3      1093     6011\n",
       "4      1097     6012\n",
       "..      ...      ...\n",
       "208    1343     8051\n",
       "209    1344     7157\n",
       "210    1345     8052\n",
       "211    1346     8053\n",
       "212    1347     8054\n",
       "\n",
       "[211 rows x 2 columns]"
      ]
     },
     "execution_count": 66,
     "metadata": {},
     "output_type": "execute_result"
    }
   ],
   "source": [
    "TOKEN = 'DE4E2DB72778DACA9B8848574107D2F5'\n",
    "\n",
    "df_cleaned, duplicate_rows = _return_report(TOKEN)\n",
    "df_cleaned\n"
   ]
  },
  {
   "cell_type": "code",
   "execution_count": 67,
   "id": "fa8306bd",
   "metadata": {},
   "outputs": [
    {
     "data": {
      "application/vnd.microsoft.datawrangler.viewer.v0+json": {
       "columns": [
        {
         "name": "index",
         "rawType": "int64",
         "type": "integer"
        },
        {
         "name": "path",
         "rawType": "object",
         "type": "string"
        },
        {
         "name": "date",
         "rawType": "datetime64[ns]",
         "type": "datetime"
        }
       ],
       "ref": "728f007d-3e88-4394-85c0-baa61d3a3aec",
       "rows": [
        [
         "0",
         "/Volumes/VossLab/Repositories/Accelerometer_Data/Sleep/1088_8-7-2024_Sleep.csv",
         "2024-08-07 00:00:00"
        ],
        [
         "1",
         "/Volumes/VossLab/Repositories/Accelerometer_Data/Sleep/1115_8-6-2024_Sleep.csv",
         "2024-08-06 00:00:00"
        ],
        [
         "2",
         "/Volumes/VossLab/Repositories/Accelerometer_Data/Sleep/1112_8-8-2024_Sleep.csv",
         "2024-08-08 00:00:00"
        ],
        [
         "3",
         "/Volumes/VossLab/Repositories/Accelerometer_Data/Sleep/1117_8-7-2024_Sleep.csv",
         "2024-08-07 00:00:00"
        ],
        [
         "4",
         "/Volumes/VossLab/Repositories/Accelerometer_Data/Sleep/1079_8-9-2024_Sleep.csv",
         "2024-08-09 00:00:00"
        ],
        [
         "5",
         "/Volumes/VossLab/Repositories/Accelerometer_Data/Sleep/1120_8-14-2024_Sleep.csv",
         "2024-08-14 00:00:00"
        ],
        [
         "6",
         "/Volumes/VossLab/Repositories/Accelerometer_Data/Sleep/1118_8-9-2024_Sleep.csv",
         "2024-08-09 00:00:00"
        ],
        [
         "7",
         "/Volumes/VossLab/Repositories/Accelerometer_Data/Sleep/1098_8-15-2024_Sleep.csv",
         "2024-08-15 00:00:00"
        ],
        [
         "8",
         "/Volumes/VossLab/Repositories/Accelerometer_Data/Sleep/781_8-15-2024_Sleep.csv",
         "2024-08-15 00:00:00"
        ],
        [
         "9",
         "/Volumes/VossLab/Repositories/Accelerometer_Data/Sleep/1113_8-21-2024_Sleep.csv",
         "2024-08-21 00:00:00"
        ],
        [
         "10",
         "/Volumes/VossLab/Repositories/Accelerometer_Data/Sleep/1122_8-23-2024_Sleep.csv",
         "2024-08-23 00:00:00"
        ],
        [
         "11",
         "/Volumes/VossLab/Repositories/Accelerometer_Data/Sleep/1121_9-04-2024_Sleep.csv",
         "2024-09-04 00:00:00"
        ],
        [
         "12",
         "/Volumes/VossLab/Repositories/Accelerometer_Data/Sleep/1114_9-5-2024_Sleep.csv",
         "2024-09-05 00:00:00"
        ],
        [
         "13",
         "/Volumes/VossLab/Repositories/Accelerometer_Data/Sleep/1116_8-30-2024_Sleep.csv",
         "2024-08-30 00:00:00"
        ],
        [
         "14",
         "/Volumes/VossLab/Repositories/Accelerometer_Data/Sleep/1123_9-21-2024_Sleep.csv",
         "2024-09-21 00:00:00"
        ],
        [
         "15",
         "/Volumes/VossLab/Repositories/Accelerometer_Data/Sleep/1124_9-14-2024_Sleep.csv",
         "2024-09-14 00:00:00"
        ],
        [
         "16",
         "/Volumes/VossLab/Repositories/Accelerometer_Data/Sleep/920_9-19-2024_Sleep.csv",
         "2024-09-19 00:00:00"
        ],
        [
         "17",
         "/Volumes/VossLab/Repositories/Accelerometer_Data/Sleep/868_9-5-2024_Sleep.csv",
         "2024-09-05 00:00:00"
        ],
        [
         "18",
         "/Volumes/VossLab/Repositories/Accelerometer_Data/Sleep/890_9-18-2024_Sleep.csv",
         "2024-09-18 00:00:00"
        ],
        [
         "19",
         "/Volumes/VossLab/Repositories/Accelerometer_Data/Sleep/1111_9-6-2024_Sleep.csv",
         "2024-09-06 00:00:00"
        ],
        [
         "20",
         "/Volumes/VossLab/Repositories/Accelerometer_Data/Sleep/1129_9-21-2024_Sleep.csv",
         "2024-09-21 00:00:00"
        ],
        [
         "21",
         "/Volumes/VossLab/Repositories/Accelerometer_Data/Sleep/1130_9-25-2024_Sleep.csv",
         "2024-09-25 00:00:00"
        ],
        [
         "22",
         "/Volumes/VossLab/Repositories/Accelerometer_Data/Sleep/1135_10-3-2024_Sleep.csv",
         "2024-10-03 00:00:00"
        ],
        [
         "23",
         "/Volumes/VossLab/Repositories/Accelerometer_Data/Sleep/1133_10-2-2024_Sleep.csv",
         "2024-10-02 00:00:00"
        ],
        [
         "24",
         "/Volumes/VossLab/Repositories/Accelerometer_Data/Sleep/931_9-7-2024_Sleep.csv",
         "2024-09-07 00:00:00"
        ],
        [
         "25",
         "/Volumes/VossLab/Repositories/Accelerometer_Data/Sleep/1126_9-26-2024_Sleep.csv",
         "2024-09-26 00:00:00"
        ],
        [
         "26",
         "/Volumes/VossLab/Repositories/Accelerometer_Data/Sleep/1132_10-3-2024_Sleep.csv",
         "2024-10-03 00:00:00"
        ],
        [
         "27",
         "/Volumes/VossLab/Repositories/Accelerometer_Data/Sleep/1137_10-12-2024_Sleep.csv",
         "2024-10-12 00:00:00"
        ],
        [
         "28",
         "/Volumes/VossLab/Repositories/Accelerometer_Data/Sleep/1131_10-9-2024_Sleep.csv",
         "2024-10-09 00:00:00"
        ],
        [
         "29",
         "/Volumes/VossLab/Repositories/Accelerometer_Data/Sleep/902_10-23-2024_Sleep.csv",
         "2024-10-23 00:00:00"
        ],
        [
         "30",
         "/Volumes/VossLab/Repositories/Accelerometer_Data/Sleep/1142_10-25-2024_Sleep.csv",
         "2024-10-25 00:00:00"
        ],
        [
         "31",
         "/Volumes/VossLab/Repositories/Accelerometer_Data/Sleep/1140_10-29-2024_Sleep.csv",
         "2024-10-29 00:00:00"
        ],
        [
         "32",
         "/Volumes/VossLab/Repositories/Accelerometer_Data/Sleep/1138_10-25-2024_Sleep.csv",
         "2024-10-25 00:00:00"
        ],
        [
         "33",
         "/Volumes/VossLab/Repositories/Accelerometer_Data/Sleep/1125_10-5-2024_Sleep.csv",
         "2024-10-05 00:00:00"
        ],
        [
         "34",
         "/Volumes/VossLab/Repositories/Accelerometer_Data/Sleep/1148_11-5-2024_Sleep.csv",
         "2024-11-05 00:00:00"
        ],
        [
         "35",
         "/Volumes/VossLab/Repositories/Accelerometer_Data/Sleep/1136_10-12-2024_Sleep.csv",
         "2024-10-12 00:00:00"
        ],
        [
         "36",
         "/Volumes/VossLab/Repositories/Accelerometer_Data/Sleep/205_10-18-2024_Sleep.csv",
         "2024-10-18 00:00:00"
        ],
        [
         "37",
         "/Volumes/VossLab/Repositories/Accelerometer_Data/Sleep/901_10-18-2024_Sleep.csv",
         "2024-10-18 00:00:00"
        ],
        [
         "38",
         "/Volumes/VossLab/Repositories/Accelerometer_Data/Sleep/1126_11-23-2024_Sleep.csv",
         "2024-11-23 00:00:00"
        ],
        [
         "39",
         "/Volumes/VossLab/Repositories/Accelerometer_Data/Sleep/1141_11-6-2024_Sleep.csv",
         "2024-11-06 00:00:00"
        ],
        [
         "40",
         "/Volumes/VossLab/Repositories/Accelerometer_Data/Sleep/1139_11-8-2024_Sleep.csv",
         "2024-11-08 00:00:00"
        ],
        [
         "41",
         "/Volumes/VossLab/Repositories/Accelerometer_Data/Sleep/1124_11-7-2024_Sleep.csv",
         "2024-11-07 00:00:00"
        ],
        [
         "42",
         "/Volumes/VossLab/Repositories/Accelerometer_Data/Sleep/1134_10-31-2024_Sleep.csv",
         "2024-10-31 00:00:00"
        ],
        [
         "43",
         "/Volumes/VossLab/Repositories/Accelerometer_Data/Sleep/1146_11-5-2024_Sleep.csv",
         "2024-11-05 00:00:00"
        ],
        [
         "44",
         "/Volumes/VossLab/Repositories/Accelerometer_Data/Sleep/1147_11-15-2024_Sleep.csv",
         "2024-11-15 00:00:00"
        ],
        [
         "45",
         "/Volumes/VossLab/Repositories/Accelerometer_Data/Sleep/1152_11-20-2024_Sleep.csv",
         "2024-11-20 00:00:00"
        ],
        [
         "46",
         "/Volumes/VossLab/Repositories/Accelerometer_Data/Sleep/920_11-21-2024_Sleep.csv",
         "2024-11-21 00:00:00"
        ],
        [
         "47",
         "/Volumes/VossLab/Repositories/Accelerometer_Data/Sleep/1151_12-7-2024_Sleep.csv",
         "2024-12-07 00:00:00"
        ],
        [
         "48",
         "/Volumes/VossLab/Repositories/Accelerometer_Data/Sleep/1145_11-7-2024_Sleep.csv",
         "2024-11-07 00:00:00"
        ],
        [
         "49",
         "/Volumes/VossLab/Repositories/Accelerometer_Data/Sleep/588_12-6-2024_Sleep.csv",
         "2024-12-06 00:00:00"
        ]
       ],
       "shape": {
        "columns": 2,
        "rows": 181
       }
      },
      "text/html": [
       "<div>\n",
       "<style scoped>\n",
       "    .dataframe tbody tr th:only-of-type {\n",
       "        vertical-align: middle;\n",
       "    }\n",
       "\n",
       "    .dataframe tbody tr th {\n",
       "        vertical-align: top;\n",
       "    }\n",
       "\n",
       "    .dataframe thead th {\n",
       "        text-align: right;\n",
       "    }\n",
       "</style>\n",
       "<table border=\"1\" class=\"dataframe\">\n",
       "  <thead>\n",
       "    <tr style=\"text-align: right;\">\n",
       "      <th></th>\n",
       "      <th>path</th>\n",
       "      <th>date</th>\n",
       "    </tr>\n",
       "  </thead>\n",
       "  <tbody>\n",
       "    <tr>\n",
       "      <th>0</th>\n",
       "      <td>/Volumes/VossLab/Repositories/Accelerometer_Da...</td>\n",
       "      <td>2024-08-07</td>\n",
       "    </tr>\n",
       "    <tr>\n",
       "      <th>1</th>\n",
       "      <td>/Volumes/VossLab/Repositories/Accelerometer_Da...</td>\n",
       "      <td>2024-08-06</td>\n",
       "    </tr>\n",
       "    <tr>\n",
       "      <th>2</th>\n",
       "      <td>/Volumes/VossLab/Repositories/Accelerometer_Da...</td>\n",
       "      <td>2024-08-08</td>\n",
       "    </tr>\n",
       "    <tr>\n",
       "      <th>3</th>\n",
       "      <td>/Volumes/VossLab/Repositories/Accelerometer_Da...</td>\n",
       "      <td>2024-08-07</td>\n",
       "    </tr>\n",
       "    <tr>\n",
       "      <th>4</th>\n",
       "      <td>/Volumes/VossLab/Repositories/Accelerometer_Da...</td>\n",
       "      <td>2024-08-09</td>\n",
       "    </tr>\n",
       "    <tr>\n",
       "      <th>...</th>\n",
       "      <td>...</td>\n",
       "      <td>...</td>\n",
       "    </tr>\n",
       "    <tr>\n",
       "      <th>176</th>\n",
       "      <td>/Volumes/VossLab/Repositories/Accelerometer_Da...</td>\n",
       "      <td>2025-04-26</td>\n",
       "    </tr>\n",
       "    <tr>\n",
       "      <th>177</th>\n",
       "      <td>/Volumes/VossLab/Repositories/Accelerometer_Da...</td>\n",
       "      <td>2025-05-01</td>\n",
       "    </tr>\n",
       "    <tr>\n",
       "      <th>178</th>\n",
       "      <td>/Volumes/VossLab/Repositories/Accelerometer_Da...</td>\n",
       "      <td>2025-05-05</td>\n",
       "    </tr>\n",
       "    <tr>\n",
       "      <th>179</th>\n",
       "      <td>/Volumes/VossLab/Repositories/Accelerometer_Da...</td>\n",
       "      <td>2025-04-30</td>\n",
       "    </tr>\n",
       "    <tr>\n",
       "      <th>180</th>\n",
       "      <td>/Volumes/VossLab/Repositories/Accelerometer_Da...</td>\n",
       "      <td>2024-12-13</td>\n",
       "    </tr>\n",
       "  </tbody>\n",
       "</table>\n",
       "<p>181 rows × 2 columns</p>\n",
       "</div>"
      ],
      "text/plain": [
       "                                                  path       date\n",
       "0    /Volumes/VossLab/Repositories/Accelerometer_Da... 2024-08-07\n",
       "1    /Volumes/VossLab/Repositories/Accelerometer_Da... 2024-08-06\n",
       "2    /Volumes/VossLab/Repositories/Accelerometer_Da... 2024-08-08\n",
       "3    /Volumes/VossLab/Repositories/Accelerometer_Da... 2024-08-07\n",
       "4    /Volumes/VossLab/Repositories/Accelerometer_Da... 2024-08-09\n",
       "..                                                 ...        ...\n",
       "176  /Volumes/VossLab/Repositories/Accelerometer_Da... 2025-04-26\n",
       "177  /Volumes/VossLab/Repositories/Accelerometer_Da... 2025-05-01\n",
       "178  /Volumes/VossLab/Repositories/Accelerometer_Da... 2025-05-05\n",
       "179  /Volumes/VossLab/Repositories/Accelerometer_Da... 2025-04-30\n",
       "180  /Volumes/VossLab/Repositories/Accelerometer_Da... 2024-12-13\n",
       "\n",
       "[181 rows x 2 columns]"
      ]
     },
     "execution_count": 67,
     "metadata": {},
     "output_type": "execute_result"
    }
   ],
   "source": [
    "# return all csv \n",
    "\n",
    "def get_sleep_csvs_after_date(SLEEP_DIR, FROM_DATE):\n",
    "    sleep_dir = Path(SLEEP_DIR)\n",
    "    from_date = datetime.strptime(FROM_DATE, \"%m-%d-%Y\")\n",
    "\n",
    "    data = []\n",
    "    for file in sleep_dir.glob(\"*.csv\"):\n",
    "        try:\n",
    "            # Expecting format: \"1234_3-29-2025_Sleep.csv\"\n",
    "            parts = file.stem.split(\"_\")\n",
    "            date_str = parts[1]  # \"3-29-2025\"\n",
    "            file_date = datetime.strptime(date_str, \"%m-%d-%Y\")\n",
    "            if file_date > from_date:\n",
    "                data.append({\"path\": str(file), \"date\": file_date})\n",
    "        except (IndexError, ValueError):\n",
    "            continue  # Skip files that don't match expected pattern\n",
    "\n",
    "    return pd.DataFrame(data)\n",
    "\n",
    "sleep_paths = get_sleep_csvs_after_date(SLEEP_DIR, FROM_DATE)\n",
    "sleep_paths"
   ]
  },
  {
   "cell_type": "code",
   "execution_count": 68,
   "id": "b610d2a8",
   "metadata": {},
   "outputs": [
    {
     "data": {
      "application/vnd.microsoft.datawrangler.viewer.v0+json": {
       "columns": [
        {
         "name": "index",
         "rawType": "int64",
         "type": "integer"
        },
        {
         "name": "Sleep Algorithm",
         "rawType": "object",
         "type": "string"
        },
        {
         "name": "In Bed Date",
         "rawType": "object",
         "type": "string"
        },
        {
         "name": "In Bed Time",
         "rawType": "object",
         "type": "string"
        },
        {
         "name": "Out Bed Date",
         "rawType": "object",
         "type": "string"
        },
        {
         "name": "Out Bed Time",
         "rawType": "object",
         "type": "string"
        },
        {
         "name": "Onset Date",
         "rawType": "object",
         "type": "string"
        },
        {
         "name": "Onset Time",
         "rawType": "object",
         "type": "string"
        },
        {
         "name": "Latency",
         "rawType": "int64",
         "type": "integer"
        },
        {
         "name": "Total Counts",
         "rawType": "int64",
         "type": "integer"
        },
        {
         "name": "Efficiency",
         "rawType": "float64",
         "type": "float"
        },
        {
         "name": "Total Minutes in Bed",
         "rawType": "int64",
         "type": "integer"
        },
        {
         "name": "Total Sleep Time (TST)",
         "rawType": "int64",
         "type": "integer"
        },
        {
         "name": "Wake After Sleep Onset (WASO)",
         "rawType": "int64",
         "type": "integer"
        },
        {
         "name": "Number of Awakenings",
         "rawType": "int64",
         "type": "integer"
        },
        {
         "name": "Average Awakening Length",
         "rawType": "float64",
         "type": "float"
        },
        {
         "name": "Movement Index",
         "rawType": "float64",
         "type": "float"
        },
        {
         "name": "Fragmentation Index",
         "rawType": "float64",
         "type": "float"
        },
        {
         "name": "Sleep Fragmentation Index",
         "rawType": "float64",
         "type": "float"
        }
       ],
       "ref": "2ea75290-e5be-40ff-bc46-8f65f42a4943",
       "rows": [
        [
         "0",
         "Cole-Kripke",
         "8/7/2024",
         "12:00 AM",
         "8/7/2024",
         "4:25 AM",
         "8/7/2024",
         "12:00 AM",
         "0",
         "26017",
         "81.13",
         "265",
         "215",
         "50",
         "12",
         "4.17",
         "11.321",
         "0.0",
         "11.321"
        ],
        [
         "1",
         "Cole-Kripke",
         "8/7/2024",
         "10:00 PM",
         "8/8/2024",
         "4:15 AM",
         "8/7/2024",
         "10:09 PM",
         "9",
         "50730",
         "83.73",
         "375",
         "314",
         "52",
         "18",
         "2.89",
         "16.267",
         "22.222",
         "38.489"
        ],
        [
         "2",
         "Cole-Kripke",
         "8/8/2024",
         "9:39 PM",
         "8/9/2024",
         "4:20 AM",
         "8/8/2024",
         "9:55 PM",
         "16",
         "41112",
         "84.54",
         "401",
         "339",
         "46",
         "18",
         "2.56",
         "10.723",
         "16.667",
         "27.39"
        ],
        [
         "3",
         "Cole-Kripke",
         "8/9/2024",
         "9:49 PM",
         "8/10/2024",
         "5:35 AM",
         "8/9/2024",
         "10:05 PM",
         "16",
         "70375",
         "82.83",
         "466",
         "386",
         "64",
         "19",
         "3.37",
         "16.738",
         "21.053",
         "37.791"
        ],
        [
         "4",
         "Cole-Kripke",
         "8/10/2024",
         "10:02 PM",
         "8/11/2024",
         "5:26 AM",
         "8/10/2024",
         "10:29 PM",
         "27",
         "93392",
         "83.56",
         "444",
         "371",
         "46",
         "14",
         "3.29",
         "17.342",
         "7.143",
         "24.485"
        ]
       ],
       "shape": {
        "columns": 18,
        "rows": 5
       }
      },
      "text/html": [
       "<div>\n",
       "<style scoped>\n",
       "    .dataframe tbody tr th:only-of-type {\n",
       "        vertical-align: middle;\n",
       "    }\n",
       "\n",
       "    .dataframe tbody tr th {\n",
       "        vertical-align: top;\n",
       "    }\n",
       "\n",
       "    .dataframe thead th {\n",
       "        text-align: right;\n",
       "    }\n",
       "</style>\n",
       "<table border=\"1\" class=\"dataframe\">\n",
       "  <thead>\n",
       "    <tr style=\"text-align: right;\">\n",
       "      <th></th>\n",
       "      <th>Sleep Algorithm</th>\n",
       "      <th>In Bed Date</th>\n",
       "      <th>In Bed Time</th>\n",
       "      <th>Out Bed Date</th>\n",
       "      <th>Out Bed Time</th>\n",
       "      <th>Onset Date</th>\n",
       "      <th>Onset Time</th>\n",
       "      <th>Latency</th>\n",
       "      <th>Total Counts</th>\n",
       "      <th>Efficiency</th>\n",
       "      <th>Total Minutes in Bed</th>\n",
       "      <th>Total Sleep Time (TST)</th>\n",
       "      <th>Wake After Sleep Onset (WASO)</th>\n",
       "      <th>Number of Awakenings</th>\n",
       "      <th>Average Awakening Length</th>\n",
       "      <th>Movement Index</th>\n",
       "      <th>Fragmentation Index</th>\n",
       "      <th>Sleep Fragmentation Index</th>\n",
       "    </tr>\n",
       "  </thead>\n",
       "  <tbody>\n",
       "    <tr>\n",
       "      <th>0</th>\n",
       "      <td>Cole-Kripke</td>\n",
       "      <td>8/7/2024</td>\n",
       "      <td>12:00 AM</td>\n",
       "      <td>8/7/2024</td>\n",
       "      <td>4:25 AM</td>\n",
       "      <td>8/7/2024</td>\n",
       "      <td>12:00 AM</td>\n",
       "      <td>0</td>\n",
       "      <td>26017</td>\n",
       "      <td>81.13</td>\n",
       "      <td>265</td>\n",
       "      <td>215</td>\n",
       "      <td>50</td>\n",
       "      <td>12</td>\n",
       "      <td>4.17</td>\n",
       "      <td>11.321</td>\n",
       "      <td>0.000</td>\n",
       "      <td>11.321</td>\n",
       "    </tr>\n",
       "    <tr>\n",
       "      <th>1</th>\n",
       "      <td>Cole-Kripke</td>\n",
       "      <td>8/7/2024</td>\n",
       "      <td>10:00 PM</td>\n",
       "      <td>8/8/2024</td>\n",
       "      <td>4:15 AM</td>\n",
       "      <td>8/7/2024</td>\n",
       "      <td>10:09 PM</td>\n",
       "      <td>9</td>\n",
       "      <td>50730</td>\n",
       "      <td>83.73</td>\n",
       "      <td>375</td>\n",
       "      <td>314</td>\n",
       "      <td>52</td>\n",
       "      <td>18</td>\n",
       "      <td>2.89</td>\n",
       "      <td>16.267</td>\n",
       "      <td>22.222</td>\n",
       "      <td>38.489</td>\n",
       "    </tr>\n",
       "    <tr>\n",
       "      <th>2</th>\n",
       "      <td>Cole-Kripke</td>\n",
       "      <td>8/8/2024</td>\n",
       "      <td>9:39 PM</td>\n",
       "      <td>8/9/2024</td>\n",
       "      <td>4:20 AM</td>\n",
       "      <td>8/8/2024</td>\n",
       "      <td>9:55 PM</td>\n",
       "      <td>16</td>\n",
       "      <td>41112</td>\n",
       "      <td>84.54</td>\n",
       "      <td>401</td>\n",
       "      <td>339</td>\n",
       "      <td>46</td>\n",
       "      <td>18</td>\n",
       "      <td>2.56</td>\n",
       "      <td>10.723</td>\n",
       "      <td>16.667</td>\n",
       "      <td>27.390</td>\n",
       "    </tr>\n",
       "    <tr>\n",
       "      <th>3</th>\n",
       "      <td>Cole-Kripke</td>\n",
       "      <td>8/9/2024</td>\n",
       "      <td>9:49 PM</td>\n",
       "      <td>8/10/2024</td>\n",
       "      <td>5:35 AM</td>\n",
       "      <td>8/9/2024</td>\n",
       "      <td>10:05 PM</td>\n",
       "      <td>16</td>\n",
       "      <td>70375</td>\n",
       "      <td>82.83</td>\n",
       "      <td>466</td>\n",
       "      <td>386</td>\n",
       "      <td>64</td>\n",
       "      <td>19</td>\n",
       "      <td>3.37</td>\n",
       "      <td>16.738</td>\n",
       "      <td>21.053</td>\n",
       "      <td>37.791</td>\n",
       "    </tr>\n",
       "    <tr>\n",
       "      <th>4</th>\n",
       "      <td>Cole-Kripke</td>\n",
       "      <td>8/10/2024</td>\n",
       "      <td>10:02 PM</td>\n",
       "      <td>8/11/2024</td>\n",
       "      <td>5:26 AM</td>\n",
       "      <td>8/10/2024</td>\n",
       "      <td>10:29 PM</td>\n",
       "      <td>27</td>\n",
       "      <td>93392</td>\n",
       "      <td>83.56</td>\n",
       "      <td>444</td>\n",
       "      <td>371</td>\n",
       "      <td>46</td>\n",
       "      <td>14</td>\n",
       "      <td>3.29</td>\n",
       "      <td>17.342</td>\n",
       "      <td>7.143</td>\n",
       "      <td>24.485</td>\n",
       "    </tr>\n",
       "  </tbody>\n",
       "</table>\n",
       "</div>"
      ],
      "text/plain": [
       "  Sleep Algorithm In Bed Date In Bed Time Out Bed Date Out Bed Time  \\\n",
       "0     Cole-Kripke    8/7/2024    12:00 AM     8/7/2024      4:25 AM   \n",
       "1     Cole-Kripke    8/7/2024    10:00 PM     8/8/2024      4:15 AM   \n",
       "2     Cole-Kripke    8/8/2024     9:39 PM     8/9/2024      4:20 AM   \n",
       "3     Cole-Kripke    8/9/2024     9:49 PM    8/10/2024      5:35 AM   \n",
       "4     Cole-Kripke   8/10/2024    10:02 PM    8/11/2024      5:26 AM   \n",
       "\n",
       "  Onset Date Onset Time  Latency  Total Counts  Efficiency  \\\n",
       "0   8/7/2024   12:00 AM        0         26017       81.13   \n",
       "1   8/7/2024   10:09 PM        9         50730       83.73   \n",
       "2   8/8/2024    9:55 PM       16         41112       84.54   \n",
       "3   8/9/2024   10:05 PM       16         70375       82.83   \n",
       "4  8/10/2024   10:29 PM       27         93392       83.56   \n",
       "\n",
       "   Total Minutes in Bed  Total Sleep Time (TST)  \\\n",
       "0                   265                     215   \n",
       "1                   375                     314   \n",
       "2                   401                     339   \n",
       "3                   466                     386   \n",
       "4                   444                     371   \n",
       "\n",
       "   Wake After Sleep Onset (WASO)  Number of Awakenings  \\\n",
       "0                             50                    12   \n",
       "1                             52                    18   \n",
       "2                             46                    18   \n",
       "3                             64                    19   \n",
       "4                             46                    14   \n",
       "\n",
       "   Average Awakening Length  Movement Index  Fragmentation Index  \\\n",
       "0                      4.17          11.321                0.000   \n",
       "1                      2.89          16.267               22.222   \n",
       "2                      2.56          10.723               16.667   \n",
       "3                      3.37          16.738               21.053   \n",
       "4                      3.29          17.342                7.143   \n",
       "\n",
       "   Sleep Fragmentation Index  \n",
       "0                     11.321  \n",
       "1                     38.489  \n",
       "2                     27.390  \n",
       "3                     37.791  \n",
       "4                     24.485  "
      ]
     },
     "execution_count": 68,
     "metadata": {},
     "output_type": "execute_result"
    }
   ],
   "source": [
    "test_df = pd.read_csv(sleep_paths.iloc[0]['path'], skiprows=5)\n",
    "test_df.head()"
   ]
  },
  {
   "cell_type": "code",
   "execution_count": 69,
   "id": "818ef6bf",
   "metadata": {},
   "outputs": [
    {
     "name": "stdout",
     "output_type": "stream",
     "text": [
      "lab_id: 1315\n"
     ]
    },
    {
     "data": {
      "text/plain": [
       "'7137'"
      ]
     },
     "execution_count": 69,
     "metadata": {},
     "output_type": "execute_result"
    }
   ],
   "source": [
    "test_df_labid = sleep_paths.iloc[175]['path'].split(\"/\")[-1].split(\"_\")[0]\n",
    "print(f\"lab_id: {test_df_labid}\")\n",
    "match = df_cleaned[df_cleaned['lab_id'].astype(str) == str(test_df_labid)]\n",
    "matched_boost_id = match['boost_id'].iloc[0] if not match.empty else None\n",
    "matched_boost_id"
   ]
  },
  {
   "cell_type": "code",
   "execution_count": 70,
   "id": "fe97331f",
   "metadata": {},
   "outputs": [],
   "source": [
    "\n",
    "def reshape_sleep_events(df: pd.DataFrame, matched_boost_id) -> pd.DataFrame:\n",
    "    \"\"\"\n",
    "    Turns a per-event sleep DataFrame into one row per ID, with columns:\n",
    "      ID, onset_N1, wakeup_N1, onset_N2, wakeup_N2, ...\n",
    "    \"\"\"\n",
    "    # 1) Copy & convert times to 24 hr format\n",
    "    df2 = df.copy()\n",
    "    df2['In Bed Time']  = pd.to_datetime(df2['In Bed Time'],  format='%I:%M %p').dt.strftime('%H:%M:%S')\n",
    "    df2['Out Bed Time'] = pd.to_datetime(df2['Out Bed Time'], format='%I:%M %p').dt.strftime('%H:%M:%S')\n",
    "\n",
    "    # 2) (Optional) sort by actual in‐bed datetime so N1, N2… are chronological\n",
    "    df2['In Bed Datetime'] = pd.to_datetime(df2['In Bed Date'] + ' ' + df2['In Bed Time'])\n",
    "    df2 = df2.sort_values('In Bed Datetime').reset_index(drop=True)\n",
    "\n",
    "    # 3) Flatten into one row\n",
    "    row = {'ID': matched_boost_id}\n",
    "    for i, (onset, wakeup) in enumerate(zip(df2['In Bed Time'], df2['Out Bed Time']), start=1):\n",
    "        row[f'onset_N{i}']  = onset\n",
    "        row[f'wakeup_N{i}'] = wakeup\n",
    "\n",
    "    return pd.DataFrame([row])"
   ]
  },
  {
   "cell_type": "code",
   "execution_count": 71,
   "id": "ad73ed73",
   "metadata": {},
   "outputs": [],
   "source": [
    "# suppose df is your original sleep‐events dataframe\n",
    "# and matched_boost_id is set in memory already:\n",
    "wide = reshape_sleep_events(test_df, matched_boost_id)"
   ]
  },
  {
   "cell_type": "code",
   "execution_count": 81,
   "id": "c8c0fb1c",
   "metadata": {},
   "outputs": [
    {
     "data": {
      "application/vnd.microsoft.datawrangler.viewer.v0+json": {
       "columns": [
        {
         "name": "index",
         "rawType": "int64",
         "type": "integer"
        },
        {
         "name": "ID",
         "rawType": "object",
         "type": "string"
        },
        {
         "name": "onset_N1",
         "rawType": "object",
         "type": "string"
        },
        {
         "name": "wakeup_N1",
         "rawType": "object",
         "type": "string"
        },
        {
         "name": "onset_N2",
         "rawType": "object",
         "type": "string"
        },
        {
         "name": "wakeup_N2",
         "rawType": "object",
         "type": "string"
        },
        {
         "name": "onset_N3",
         "rawType": "object",
         "type": "string"
        },
        {
         "name": "wakeup_N3",
         "rawType": "object",
         "type": "string"
        },
        {
         "name": "onset_N4",
         "rawType": "object",
         "type": "string"
        },
        {
         "name": "wakeup_N4",
         "rawType": "object",
         "type": "string"
        },
        {
         "name": "onset_N5",
         "rawType": "object",
         "type": "string"
        },
        {
         "name": "wakeup_N5",
         "rawType": "object",
         "type": "string"
        },
        {
         "name": "onset_N6",
         "rawType": "object",
         "type": "string"
        },
        {
         "name": "wakeup_N6",
         "rawType": "object",
         "type": "string"
        },
        {
         "name": "onset_N7",
         "rawType": "object",
         "type": "string"
        },
        {
         "name": "wakeup_N7",
         "rawType": "object",
         "type": "string"
        }
       ],
       "ref": "536183c2-b728-4e83-beb3-0b4907079312",
       "rows": [
        [
         "0",
         "7137",
         "00:00:00",
         "04:25:00",
         "22:00:00",
         "04:15:00",
         "21:39:00",
         "04:20:00",
         "21:49:00",
         "05:35:00",
         "22:02:00",
         "05:26:00",
         "22:32:00",
         "04:20:00",
         "21:45:00",
         "04:20:00"
        ]
       ],
       "shape": {
        "columns": 15,
        "rows": 1
       }
      },
      "text/html": [
       "<div>\n",
       "<style scoped>\n",
       "    .dataframe tbody tr th:only-of-type {\n",
       "        vertical-align: middle;\n",
       "    }\n",
       "\n",
       "    .dataframe tbody tr th {\n",
       "        vertical-align: top;\n",
       "    }\n",
       "\n",
       "    .dataframe thead th {\n",
       "        text-align: right;\n",
       "    }\n",
       "</style>\n",
       "<table border=\"1\" class=\"dataframe\">\n",
       "  <thead>\n",
       "    <tr style=\"text-align: right;\">\n",
       "      <th></th>\n",
       "      <th>ID</th>\n",
       "      <th>onset_N1</th>\n",
       "      <th>wakeup_N1</th>\n",
       "      <th>onset_N2</th>\n",
       "      <th>wakeup_N2</th>\n",
       "      <th>onset_N3</th>\n",
       "      <th>wakeup_N3</th>\n",
       "      <th>onset_N4</th>\n",
       "      <th>wakeup_N4</th>\n",
       "      <th>onset_N5</th>\n",
       "      <th>wakeup_N5</th>\n",
       "      <th>onset_N6</th>\n",
       "      <th>wakeup_N6</th>\n",
       "      <th>onset_N7</th>\n",
       "      <th>wakeup_N7</th>\n",
       "    </tr>\n",
       "  </thead>\n",
       "  <tbody>\n",
       "    <tr>\n",
       "      <th>0</th>\n",
       "      <td>7137</td>\n",
       "      <td>00:00:00</td>\n",
       "      <td>04:25:00</td>\n",
       "      <td>22:00:00</td>\n",
       "      <td>04:15:00</td>\n",
       "      <td>21:39:00</td>\n",
       "      <td>04:20:00</td>\n",
       "      <td>21:49:00</td>\n",
       "      <td>05:35:00</td>\n",
       "      <td>22:02:00</td>\n",
       "      <td>05:26:00</td>\n",
       "      <td>22:32:00</td>\n",
       "      <td>04:20:00</td>\n",
       "      <td>21:45:00</td>\n",
       "      <td>04:20:00</td>\n",
       "    </tr>\n",
       "  </tbody>\n",
       "</table>\n",
       "</div>"
      ],
      "text/plain": [
       "     ID  onset_N1 wakeup_N1  onset_N2 wakeup_N2  onset_N3 wakeup_N3  onset_N4  \\\n",
       "0  7137  00:00:00  04:25:00  22:00:00  04:15:00  21:39:00  04:20:00  21:49:00   \n",
       "\n",
       "  wakeup_N4  onset_N5 wakeup_N5  onset_N6 wakeup_N6  onset_N7 wakeup_N7  \n",
       "0  05:35:00  22:02:00  05:26:00  22:32:00  04:20:00  21:45:00  04:20:00  "
      ]
     },
     "execution_count": 81,
     "metadata": {},
     "output_type": "execute_result"
    }
   ],
   "source": [
    "wide"
   ]
  },
  {
   "cell_type": "code",
   "execution_count": 84,
   "id": "2d166ae1",
   "metadata": {},
   "outputs": [],
   "source": [
    "import pandas as pd\n",
    "import os\n",
    "from collections import defaultdict\n",
    "\n",
    "def process_and_save_sleep_data(sleep_paths, df_cleaned, output_path, session):\n",
    "    all_rows = []\n",
    "    session_counts = defaultdict(int)\n",
    "\n",
    "    for i in range(len(sleep_paths)):\n",
    "        try:\n",
    "            file_path = sleep_paths.iloc[i]['path']\n",
    "            filename = os.path.basename(file_path)\n",
    "            lab_id = filename.split(\"_\")[0]\n",
    "\n",
    "            # Update and check session count\n",
    "            session_counts[lab_id] += 1\n",
    "            session_number = session_counts[lab_id]\n",
    "\n",
    "            # Only process the specified session\n",
    "            if session_number != session:\n",
    "                continue\n",
    "\n",
    "            # Match lab_id to boost_id\n",
    "            match = df_cleaned[df_cleaned['lab_id'].astype(str) == str(lab_id)]\n",
    "            matched_boost_id = match['boost_id'].iloc[0] if not match.empty else None\n",
    "\n",
    "            if matched_boost_id:\n",
    "                base_id = matched_boost_id\n",
    "                full_id = f\"{base_id}\"\n",
    "\n",
    "                df = pd.read_csv(file_path, skiprows=5)\n",
    "                reshaped_df = reshape_sleep_events(df, full_id)\n",
    "                all_rows.append(reshaped_df)\n",
    "            else:\n",
    "                print(f\"No match found for lab_id: {lab_id}\")\n",
    "        except Exception as e:\n",
    "            print(f\"Error processing index {i}, file {file_path}: {e}\")\n",
    "\n",
    "    if all_rows:\n",
    "        final_df = pd.concat(all_rows, ignore_index=True)\n",
    "        final_df.to_csv(output_path, index=False)\n",
    "        print(f\"Saved reshaped sleep data to {output_path}\")\n",
    "    else:\n",
    "        print(\"No data matched the specified session.\")"
   ]
  },
  {
   "cell_type": "code",
   "execution_count": 85,
   "id": "47e2f09e",
   "metadata": {},
   "outputs": [
    {
     "name": "stdout",
     "output_type": "stream",
     "text": [
      "No match found for lab_id: 1088\n",
      "No match found for lab_id: 1079\n",
      "No match found for lab_id: 781\n",
      "No match found for lab_id: 920\n",
      "No match found for lab_id: 868\n",
      "No match found for lab_id: 890\n",
      "No match found for lab_id: 1135\n",
      "No match found for lab_id: 931\n",
      "No match found for lab_id: 902\n",
      "No match found for lab_id: 205\n",
      "No match found for lab_id: 901\n",
      "No match found for lab_id: 1152\n",
      "No match found for lab_id: 588\n",
      "No match found for lab_id: 877\n",
      "No match found for lab_id: 1157\n",
      "No match found for lab_id: 1153\n",
      "No match found for lab_id: 926\n",
      "No match found for lab_id: 1156\n",
      "No match found for lab_id: 399\n",
      "No match found for lab_id: 1278\n",
      "No match found for lab_id: 1281\n",
      "No match found for lab_id: 944\n",
      "No match found for lab_id: 1280\n",
      "No match found for lab_id: 893\n",
      "No match found for lab_id: 1287\n",
      "No match found for lab_id: 1284\n",
      "No match found for lab_id: 1282\n",
      "No match found for lab_id: 1285\n",
      "No match found for lab_id: 1274\n",
      "No match found for lab_id: 1292\n",
      "No match found for lab_id: 1310\n",
      "No match found for lab_id: 1293\n",
      "No match found for lab_id: 1295\n",
      "No match found for lab_id: 1286\n",
      "No match found for lab_id: 90\n",
      "No match found for lab_id: 1294\n",
      "No match found for lab_id: 904\n",
      "Saved reshaped sleep data to sleep.csv\n"
     ]
    }
   ],
   "source": [
    "process_and_save_sleep_data(sleep_paths, df_cleaned, \"sleep.csv\", session=1)"
   ]
  },
  {
   "cell_type": "markdown",
   "id": "c5e5df97",
   "metadata": {},
   "source": [
    "/Volumes/VossLab/Repositories/Accelerometer_Data/Sleep/1088_8-7-2024_Sleep.csv"
   ]
  },
  {
   "cell_type": "code",
   "execution_count": null,
   "id": "aefe9a2a",
   "metadata": {},
   "outputs": [],
   "source": []
  }
 ],
 "metadata": {
  "kernelspec": {
   "display_name": "cpsy",
   "language": "python",
   "name": "python3"
  },
  "language_info": {
   "codemirror_mode": {
    "name": "ipython",
    "version": 3
   },
   "file_extension": ".py",
   "mimetype": "text/x-python",
   "name": "python",
   "nbconvert_exporter": "python",
   "pygments_lexer": "ipython3",
   "version": "3.9.7"
  }
 },
 "nbformat": 4,
 "nbformat_minor": 5
}
